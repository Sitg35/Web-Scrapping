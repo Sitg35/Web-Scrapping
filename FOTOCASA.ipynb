{
 "cells": [
  {
   "cell_type": "code",
   "execution_count": 95,
   "metadata": {},
   "outputs": [],
   "source": [
    "from bs4 import BeautifulSoup\n",
    "import requests\n",
    "import csv"
   ]
  },
  {
   "cell_type": "code",
   "execution_count": 96,
   "metadata": {},
   "outputs": [],
   "source": [
    "from concurrent.futures import ThreadPoolExecutor\n",
    "from concurrent.futures import ProcessPoolExecutor\n",
    "from time import sleep"
   ]
  },
  {
   "cell_type": "code",
   "execution_count": 97,
   "metadata": {},
   "outputs": [],
   "source": [
    "def get_url(url):\n",
    "    \n",
    "    r = requests.get(url)\n",
    "                            \n",
    "    soup = BeautifulSoup(r.text, 'html.parser')\n",
    "    \n",
    "    return soup"
   ]
  },
  {
   "cell_type": "code",
   "execution_count": 98,
   "metadata": {},
   "outputs": [],
   "source": [
    "def get_title_inside(soup):\n",
    "    \n",
    "    title =  soup.h1.text\n",
    "       \n",
    "    return title"
   ]
  },
  {
   "cell_type": "code",
   "execution_count": 99,
   "metadata": {},
   "outputs": [],
   "source": [
    "def get_DetailPages(START_URL):\n",
    "    list_of_DetailPages = []\n",
    "    next_url = START_URL\n",
    "    while next_url != 0:\n",
    "        parsed_url = get_url(next_url)\n",
    "        for name in parsed_url.find_all(\"div\",{\"class\":\"sui-CardComposable-secondary\"}):\n",
    "            inside_url = name.find(\"a\",{\"class\":\"re-Card-link\"})\n",
    "            inside_url = 'https://www.fotocasa.es' + inside_url.get(\"href\")\n",
    "            list_of_DetailPages.append(inside_url)\n",
    "        \n",
    "        try:\n",
    "            next_url = 'https://www.fotocasa.es' + parsed_url.find(\"a\",{\"class\":\"sui-LinkBasic sui-PaginationBasic-link\"}).get(\"href\") \n",
    "        except:\n",
    "             next_url = 0\n",
    "    \n",
    "    return list_of_DetailPages"
   ]
  },
  {
   "cell_type": "code",
   "execution_count": 100,
   "metadata": {},
   "outputs": [],
   "source": [
    "def genuridatas(url):\n",
    "    \n",
    "    data = []\n",
    "    \n",
    "    #parsed_url = get_url(url)\n",
    "    r = requests.get(url)\n",
    "                            \n",
    "    parsed_url = BeautifulSoup(r.text, 'html.parser')\n",
    "    \n",
    "    title = get_title_inside(parsed_url)\n",
    "    data.extend(title)\n",
    "    \n",
    "    return data"
   ]
  },
  {
   "cell_type": "code",
   "execution_count": 103,
   "metadata": {},
   "outputs": [],
   "source": [
    "START_URL = 'https://www.fotocasa.es/es/alquiler/casas/barcelona-capital/ciutat-vella/l?latitude=41.3854&longitude=2.17754&maxPrice=1000&combinedLocationIds=724,9,8,232,376,8019,0,1152,0&gridType=3'"
   ]
  },
  {
   "cell_type": "code",
   "execution_count": 85,
   "metadata": {},
   "outputs": [
    {
     "name": "stdout",
     "output_type": "stream",
     "text": [
      "Casas de alquiler en Barcelona Capital\n"
     ]
    }
   ],
   "source": [
    "print(title)"
   ]
  },
  {
   "cell_type": "code",
   "execution_count": 104,
   "metadata": {},
   "outputs": [
    {
     "ename": "KeyboardInterrupt",
     "evalue": "",
     "output_type": "error",
     "traceback": [
      "\u001b[0;31m---------------------------------------------------------------------------\u001b[0m",
      "\u001b[0;31mKeyboardInterrupt\u001b[0m                         Traceback (most recent call last)",
      "\u001b[0;32m<ipython-input-104-ed53c7f275f2>\u001b[0m in \u001b[0;36m<module>\u001b[0;34m\u001b[0m\n\u001b[0;32m----> 1\u001b[0;31m \u001b[0murls\u001b[0m \u001b[0;34m=\u001b[0m \u001b[0mget_DetailPages\u001b[0m\u001b[0;34m(\u001b[0m\u001b[0mSTART_URL\u001b[0m\u001b[0;34m)\u001b[0m\u001b[0;34m\u001b[0m\u001b[0m\n\u001b[0m",
      "\u001b[0;32m<ipython-input-99-45540933c00e>\u001b[0m in \u001b[0;36mget_DetailPages\u001b[0;34m(START_URL)\u001b[0m\n\u001b[1;32m      3\u001b[0m     \u001b[0mnext_url\u001b[0m \u001b[0;34m=\u001b[0m \u001b[0mSTART_URL\u001b[0m\u001b[0;34m\u001b[0m\u001b[0m\n\u001b[1;32m      4\u001b[0m     \u001b[0;32mwhile\u001b[0m \u001b[0mnext_url\u001b[0m \u001b[0;34m!=\u001b[0m \u001b[0;36m0\u001b[0m\u001b[0;34m:\u001b[0m\u001b[0;34m\u001b[0m\u001b[0m\n\u001b[0;32m----> 5\u001b[0;31m         \u001b[0mparsed_url\u001b[0m \u001b[0;34m=\u001b[0m \u001b[0mget_url\u001b[0m\u001b[0;34m(\u001b[0m\u001b[0mnext_url\u001b[0m\u001b[0;34m)\u001b[0m\u001b[0;34m\u001b[0m\u001b[0m\n\u001b[0m\u001b[1;32m      6\u001b[0m         \u001b[0;32mfor\u001b[0m \u001b[0mname\u001b[0m \u001b[0;32min\u001b[0m \u001b[0mparsed_url\u001b[0m\u001b[0;34m.\u001b[0m\u001b[0mfind_all\u001b[0m\u001b[0;34m(\u001b[0m\u001b[0;34m\"div\"\u001b[0m\u001b[0;34m,\u001b[0m\u001b[0;34m{\u001b[0m\u001b[0;34m\"class\"\u001b[0m\u001b[0;34m:\u001b[0m\u001b[0;34m\"sui-CardComposable-secondary\"\u001b[0m\u001b[0;34m}\u001b[0m\u001b[0;34m)\u001b[0m\u001b[0;34m:\u001b[0m\u001b[0;34m\u001b[0m\u001b[0m\n\u001b[1;32m      7\u001b[0m             \u001b[0minside_url\u001b[0m \u001b[0;34m=\u001b[0m \u001b[0mname\u001b[0m\u001b[0;34m.\u001b[0m\u001b[0mfind\u001b[0m\u001b[0;34m(\u001b[0m\u001b[0;34m\"a\"\u001b[0m\u001b[0;34m,\u001b[0m\u001b[0;34m{\u001b[0m\u001b[0;34m\"class\"\u001b[0m\u001b[0;34m:\u001b[0m\u001b[0;34m\"re-Card-link\"\u001b[0m\u001b[0;34m}\u001b[0m\u001b[0;34m)\u001b[0m\u001b[0;34m\u001b[0m\u001b[0m\n",
      "\u001b[0;32m<ipython-input-97-e0088a19ef1d>\u001b[0m in \u001b[0;36mget_url\u001b[0;34m(url)\u001b[0m\n\u001b[1;32m      3\u001b[0m     \u001b[0mr\u001b[0m \u001b[0;34m=\u001b[0m \u001b[0mrequests\u001b[0m\u001b[0;34m.\u001b[0m\u001b[0mget\u001b[0m\u001b[0;34m(\u001b[0m\u001b[0murl\u001b[0m\u001b[0;34m)\u001b[0m\u001b[0;34m\u001b[0m\u001b[0m\n\u001b[1;32m      4\u001b[0m \u001b[0;34m\u001b[0m\u001b[0m\n\u001b[0;32m----> 5\u001b[0;31m     \u001b[0msoup\u001b[0m \u001b[0;34m=\u001b[0m \u001b[0mBeautifulSoup\u001b[0m\u001b[0;34m(\u001b[0m\u001b[0mr\u001b[0m\u001b[0;34m.\u001b[0m\u001b[0mtext\u001b[0m\u001b[0;34m,\u001b[0m \u001b[0;34m'html.parser'\u001b[0m\u001b[0;34m)\u001b[0m\u001b[0;34m\u001b[0m\u001b[0m\n\u001b[0m\u001b[1;32m      6\u001b[0m \u001b[0;34m\u001b[0m\u001b[0m\n\u001b[1;32m      7\u001b[0m     \u001b[0;32mreturn\u001b[0m \u001b[0msoup\u001b[0m\u001b[0;34m\u001b[0m\u001b[0m\n",
      "\u001b[0;32m~/anaconda3/lib/python3.6/site-packages/bs4/__init__.py\u001b[0m in \u001b[0;36m__init__\u001b[0;34m(self, markup, features, builder, parse_only, from_encoding, exclude_encodings, **kwargs)\u001b[0m\n\u001b[1;32m    280\u001b[0m             \u001b[0mself\u001b[0m\u001b[0;34m.\u001b[0m\u001b[0mreset\u001b[0m\u001b[0;34m(\u001b[0m\u001b[0;34m)\u001b[0m\u001b[0;34m\u001b[0m\u001b[0m\n\u001b[1;32m    281\u001b[0m             \u001b[0;32mtry\u001b[0m\u001b[0;34m:\u001b[0m\u001b[0;34m\u001b[0m\u001b[0m\n\u001b[0;32m--> 282\u001b[0;31m                 \u001b[0mself\u001b[0m\u001b[0;34m.\u001b[0m\u001b[0m_feed\u001b[0m\u001b[0;34m(\u001b[0m\u001b[0;34m)\u001b[0m\u001b[0;34m\u001b[0m\u001b[0m\n\u001b[0m\u001b[1;32m    283\u001b[0m                 \u001b[0;32mbreak\u001b[0m\u001b[0;34m\u001b[0m\u001b[0m\n\u001b[1;32m    284\u001b[0m             \u001b[0;32mexcept\u001b[0m \u001b[0mParserRejectedMarkup\u001b[0m\u001b[0;34m:\u001b[0m\u001b[0;34m\u001b[0m\u001b[0m\n",
      "\u001b[0;32m~/anaconda3/lib/python3.6/site-packages/bs4/__init__.py\u001b[0m in \u001b[0;36m_feed\u001b[0;34m(self)\u001b[0m\n\u001b[1;32m    341\u001b[0m         \u001b[0mself\u001b[0m\u001b[0;34m.\u001b[0m\u001b[0mbuilder\u001b[0m\u001b[0;34m.\u001b[0m\u001b[0mreset\u001b[0m\u001b[0;34m(\u001b[0m\u001b[0;34m)\u001b[0m\u001b[0;34m\u001b[0m\u001b[0m\n\u001b[1;32m    342\u001b[0m \u001b[0;34m\u001b[0m\u001b[0m\n\u001b[0;32m--> 343\u001b[0;31m         \u001b[0mself\u001b[0m\u001b[0;34m.\u001b[0m\u001b[0mbuilder\u001b[0m\u001b[0;34m.\u001b[0m\u001b[0mfeed\u001b[0m\u001b[0;34m(\u001b[0m\u001b[0mself\u001b[0m\u001b[0;34m.\u001b[0m\u001b[0mmarkup\u001b[0m\u001b[0;34m)\u001b[0m\u001b[0;34m\u001b[0m\u001b[0m\n\u001b[0m\u001b[1;32m    344\u001b[0m         \u001b[0;31m# Close out any unfinished strings and close all the open tags.\u001b[0m\u001b[0;34m\u001b[0m\u001b[0;34m\u001b[0m\u001b[0m\n\u001b[1;32m    345\u001b[0m         \u001b[0mself\u001b[0m\u001b[0;34m.\u001b[0m\u001b[0mendData\u001b[0m\u001b[0;34m(\u001b[0m\u001b[0;34m)\u001b[0m\u001b[0;34m\u001b[0m\u001b[0m\n",
      "\u001b[0;32m~/anaconda3/lib/python3.6/site-packages/bs4/builder/_htmlparser.py\u001b[0m in \u001b[0;36mfeed\u001b[0;34m(self, markup)\u001b[0m\n\u001b[1;32m    245\u001b[0m         \u001b[0mparser\u001b[0m\u001b[0;34m.\u001b[0m\u001b[0msoup\u001b[0m \u001b[0;34m=\u001b[0m \u001b[0mself\u001b[0m\u001b[0;34m.\u001b[0m\u001b[0msoup\u001b[0m\u001b[0;34m\u001b[0m\u001b[0m\n\u001b[1;32m    246\u001b[0m         \u001b[0;32mtry\u001b[0m\u001b[0;34m:\u001b[0m\u001b[0;34m\u001b[0m\u001b[0m\n\u001b[0;32m--> 247\u001b[0;31m             \u001b[0mparser\u001b[0m\u001b[0;34m.\u001b[0m\u001b[0mfeed\u001b[0m\u001b[0;34m(\u001b[0m\u001b[0mmarkup\u001b[0m\u001b[0;34m)\u001b[0m\u001b[0;34m\u001b[0m\u001b[0m\n\u001b[0m\u001b[1;32m    248\u001b[0m             \u001b[0mparser\u001b[0m\u001b[0;34m.\u001b[0m\u001b[0mclose\u001b[0m\u001b[0;34m(\u001b[0m\u001b[0;34m)\u001b[0m\u001b[0;34m\u001b[0m\u001b[0m\n\u001b[1;32m    249\u001b[0m         \u001b[0;32mexcept\u001b[0m \u001b[0mHTMLParseError\u001b[0m \u001b[0;32mas\u001b[0m \u001b[0me\u001b[0m\u001b[0;34m:\u001b[0m\u001b[0;34m\u001b[0m\u001b[0m\n",
      "\u001b[0;32m~/anaconda3/lib/python3.6/html/parser.py\u001b[0m in \u001b[0;36mfeed\u001b[0;34m(self, data)\u001b[0m\n\u001b[1;32m    109\u001b[0m         \"\"\"\n\u001b[1;32m    110\u001b[0m         \u001b[0mself\u001b[0m\u001b[0;34m.\u001b[0m\u001b[0mrawdata\u001b[0m \u001b[0;34m=\u001b[0m \u001b[0mself\u001b[0m\u001b[0;34m.\u001b[0m\u001b[0mrawdata\u001b[0m \u001b[0;34m+\u001b[0m \u001b[0mdata\u001b[0m\u001b[0;34m\u001b[0m\u001b[0m\n\u001b[0;32m--> 111\u001b[0;31m         \u001b[0mself\u001b[0m\u001b[0;34m.\u001b[0m\u001b[0mgoahead\u001b[0m\u001b[0;34m(\u001b[0m\u001b[0;36m0\u001b[0m\u001b[0;34m)\u001b[0m\u001b[0;34m\u001b[0m\u001b[0m\n\u001b[0m\u001b[1;32m    112\u001b[0m \u001b[0;34m\u001b[0m\u001b[0m\n\u001b[1;32m    113\u001b[0m     \u001b[0;32mdef\u001b[0m \u001b[0mclose\u001b[0m\u001b[0;34m(\u001b[0m\u001b[0mself\u001b[0m\u001b[0;34m)\u001b[0m\u001b[0;34m:\u001b[0m\u001b[0;34m\u001b[0m\u001b[0m\n",
      "\u001b[0;32m~/anaconda3/lib/python3.6/html/parser.py\u001b[0m in \u001b[0;36mgoahead\u001b[0;34m(self, end)\u001b[0m\n\u001b[1;32m    171\u001b[0m                     \u001b[0mk\u001b[0m \u001b[0;34m=\u001b[0m \u001b[0mself\u001b[0m\u001b[0;34m.\u001b[0m\u001b[0mparse_starttag\u001b[0m\u001b[0;34m(\u001b[0m\u001b[0mi\u001b[0m\u001b[0;34m)\u001b[0m\u001b[0;34m\u001b[0m\u001b[0m\n\u001b[1;32m    172\u001b[0m                 \u001b[0;32melif\u001b[0m \u001b[0mstartswith\u001b[0m\u001b[0;34m(\u001b[0m\u001b[0;34m\"</\"\u001b[0m\u001b[0;34m,\u001b[0m \u001b[0mi\u001b[0m\u001b[0;34m)\u001b[0m\u001b[0;34m:\u001b[0m\u001b[0;34m\u001b[0m\u001b[0m\n\u001b[0;32m--> 173\u001b[0;31m                     \u001b[0mk\u001b[0m \u001b[0;34m=\u001b[0m \u001b[0mself\u001b[0m\u001b[0;34m.\u001b[0m\u001b[0mparse_endtag\u001b[0m\u001b[0;34m(\u001b[0m\u001b[0mi\u001b[0m\u001b[0;34m)\u001b[0m\u001b[0;34m\u001b[0m\u001b[0m\n\u001b[0m\u001b[1;32m    174\u001b[0m                 \u001b[0;32melif\u001b[0m \u001b[0mstartswith\u001b[0m\u001b[0;34m(\u001b[0m\u001b[0;34m\"<!--\"\u001b[0m\u001b[0;34m,\u001b[0m \u001b[0mi\u001b[0m\u001b[0;34m)\u001b[0m\u001b[0;34m:\u001b[0m\u001b[0;34m\u001b[0m\u001b[0m\n\u001b[1;32m    175\u001b[0m                     \u001b[0mk\u001b[0m \u001b[0;34m=\u001b[0m \u001b[0mself\u001b[0m\u001b[0;34m.\u001b[0m\u001b[0mparse_comment\u001b[0m\u001b[0;34m(\u001b[0m\u001b[0mi\u001b[0m\u001b[0;34m)\u001b[0m\u001b[0;34m\u001b[0m\u001b[0m\n",
      "\u001b[0;32m~/anaconda3/lib/python3.6/html/parser.py\u001b[0m in \u001b[0;36mparse_endtag\u001b[0;34m(self, i)\u001b[0m\n\u001b[1;32m    419\u001b[0m                 \u001b[0;32mreturn\u001b[0m \u001b[0mgtpos\u001b[0m\u001b[0;34m\u001b[0m\u001b[0m\n\u001b[1;32m    420\u001b[0m \u001b[0;34m\u001b[0m\u001b[0m\n\u001b[0;32m--> 421\u001b[0;31m         \u001b[0mself\u001b[0m\u001b[0;34m.\u001b[0m\u001b[0mhandle_endtag\u001b[0m\u001b[0;34m(\u001b[0m\u001b[0melem\u001b[0m\u001b[0;34m.\u001b[0m\u001b[0mlower\u001b[0m\u001b[0;34m(\u001b[0m\u001b[0;34m)\u001b[0m\u001b[0;34m)\u001b[0m\u001b[0;34m\u001b[0m\u001b[0m\n\u001b[0m\u001b[1;32m    422\u001b[0m         \u001b[0mself\u001b[0m\u001b[0;34m.\u001b[0m\u001b[0mclear_cdata_mode\u001b[0m\u001b[0;34m(\u001b[0m\u001b[0;34m)\u001b[0m\u001b[0;34m\u001b[0m\u001b[0m\n\u001b[1;32m    423\u001b[0m         \u001b[0;32mreturn\u001b[0m \u001b[0mgtpos\u001b[0m\u001b[0;34m\u001b[0m\u001b[0m\n",
      "\u001b[0;32m~/anaconda3/lib/python3.6/site-packages/bs4/builder/_htmlparser.py\u001b[0m in \u001b[0;36mhandle_endtag\u001b[0;34m(self, name, check_already_closed)\u001b[0m\n\u001b[1;32m    126\u001b[0m             \u001b[0mself\u001b[0m\u001b[0;34m.\u001b[0m\u001b[0malready_closed_empty_element\u001b[0m\u001b[0;34m.\u001b[0m\u001b[0mremove\u001b[0m\u001b[0;34m(\u001b[0m\u001b[0mname\u001b[0m\u001b[0;34m)\u001b[0m\u001b[0;34m\u001b[0m\u001b[0m\n\u001b[1;32m    127\u001b[0m         \u001b[0;32melse\u001b[0m\u001b[0;34m:\u001b[0m\u001b[0;34m\u001b[0m\u001b[0m\n\u001b[0;32m--> 128\u001b[0;31m             \u001b[0mself\u001b[0m\u001b[0;34m.\u001b[0m\u001b[0msoup\u001b[0m\u001b[0;34m.\u001b[0m\u001b[0mhandle_endtag\u001b[0m\u001b[0;34m(\u001b[0m\u001b[0mname\u001b[0m\u001b[0;34m)\u001b[0m\u001b[0;34m\u001b[0m\u001b[0m\n\u001b[0m\u001b[1;32m    129\u001b[0m \u001b[0;34m\u001b[0m\u001b[0m\n\u001b[1;32m    130\u001b[0m     \u001b[0;32mdef\u001b[0m \u001b[0mhandle_data\u001b[0m\u001b[0;34m(\u001b[0m\u001b[0mself\u001b[0m\u001b[0;34m,\u001b[0m \u001b[0mdata\u001b[0m\u001b[0;34m)\u001b[0m\u001b[0;34m:\u001b[0m\u001b[0;34m\u001b[0m\u001b[0m\n",
      "\u001b[0;31mKeyboardInterrupt\u001b[0m: "
     ]
    }
   ],
   "source": [
    "urls = get_DetailPages(START_URL)"
   ]
  },
  {
   "cell_type": "code",
   "execution_count": null,
   "metadata": {},
   "outputs": [],
   "source": [
    "from concurrent.futures import ThreadPoolExecutor\n",
    "with ThreadPoolExecutor(50) as pool:\n",
    "    results = pool.map(genuridatas, urls)"
   ]
  },
  {
   "cell_type": "code",
   "execution_count": null,
   "metadata": {},
   "outputs": [],
   "source": [
    "list(results)"
   ]
  },
  {
   "cell_type": "code",
   "execution_count": 87,
   "metadata": {},
   "outputs": [],
   "source": [
    "START_URL = 'https://www.fotocasa.es/es/alquiler/casas/barcelona-capital/todas-las-zonas/l/2?latitude=41.3854&longitude=2.1775&maxPrice=1000&combinedLocationIds=724,9,8,232,376,8019,0,0,0&gridType=3'"
   ]
  },
  {
   "cell_type": "code",
   "execution_count": 88,
   "metadata": {},
   "outputs": [],
   "source": [
    "url = get_url(START_URL)"
   ]
  },
  {
   "cell_type": "code",
   "execution_count": 92,
   "metadata": {},
   "outputs": [],
   "source": [
    "list_of_DetailPages = []"
   ]
  },
  {
   "cell_type": "code",
   "execution_count": 93,
   "metadata": {},
   "outputs": [],
   "source": [
    "for name in parsed_url.find_all(\"div\",{\"class\":\"sui-CardComposable-secondary\"}):\n",
    "            inside_url = name.find(\"a\",{\"class\":\"re-Card-link\"})\n",
    "            inside_url = 'https://www.fotocasa.es' + inside_url.get(\"href\")\n",
    "            list_of_DetailPages.append(inside_url)"
   ]
  },
  {
   "cell_type": "code",
   "execution_count": 94,
   "metadata": {},
   "outputs": [
    {
     "data": {
      "text/plain": [
       "['https://www.fotocasa.es/vivienda/barcelona-capital/calefaccion-ascensor-calle-costa-148754995?RowGrid=1&tti=3&opi=300',\n",
       " 'https://www.fotocasa.es/vivienda/barcelona-capital/terraza-ascensor-no-amueblado-calle-castillejos-148922416?RowGrid=2&tti=3&opi=300',\n",
       " 'https://www.fotocasa.es/vivienda/barcelona-capital/aire-acondicionado-calefaccion-sant-gervasi-i-la-bonanova-148782989?RowGrid=3&tti=3&opi=300',\n",
       " 'https://www.fotocasa.es/vivienda/barcelona-capital/ascensor-calle-padilla-148922780?RowGrid=4&tti=3&opi=300',\n",
       " 'https://www.fotocasa.es/vivienda/barcelona-capital/calefaccion-ascensor-calle-de-la-costa-146955159?RowGrid=5&tti=3&opi=300',\n",
       " 'https://www.fotocasa.es/vivienda/barcelona-capital/terraza-ascensor-calle-dolors-masferrer-148830836?RowGrid=6&tti=3&opi=300',\n",
       " 'https://www.fotocasa.es/vivienda/barcelona-capital/aire-acondicionado-amueblado-calle-sant-pere-mes-alt-143965157?RowGrid=7&tti=3&opi=300',\n",
       " 'https://www.fotocasa.es/vivienda/barcelona-capital/aire-acondicionado-calefaccion-amueblado-calle-regomir-4bis-148152416?RowGrid=8&tti=3&opi=300',\n",
       " 'https://www.fotocasa.es/vivienda/barcelona-capital/calle-guitert-12-147851312?RowGrid=9&tti=3&opi=300',\n",
       " 'https://www.fotocasa.es/vivienda/barcelona-capital/ascensor-patio-amueblado-calle-lluis-sagnier-148948394?RowGrid=10&tti=3&opi=300',\n",
       " 'https://www.fotocasa.es/vivienda/barcelona-capital/aire-acondicionado-calefaccion-terraza-ascensor-paseo-fabra-i-puig-148948144?RowGrid=11&tti=3&opi=300',\n",
       " 'https://www.fotocasa.es/vivienda/barcelona-capital/calle-tagamanent-148948124?RowGrid=12&tti=3&opi=300',\n",
       " 'https://www.fotocasa.es/vivienda/barcelona-capital/calefaccion-ascensor-no-amueblado-rambla-de-volart-70-148947675?RowGrid=13&tti=3&opi=300',\n",
       " 'https://www.fotocasa.es/vivienda/barcelona-capital/calefaccion-ascensor-calle-rubens-148929205?RowGrid=14&tti=3&opi=300',\n",
       " 'https://www.fotocasa.es/vivienda/barcelona-capital/calle-villarroel-148947650?RowGrid=15&tti=3&opi=300',\n",
       " 'https://www.fotocasa.es/vivienda/barcelona-capital/ascensor-patio-no-amueblado-el-carmel-148803516?RowGrid=16&tti=3&opi=300',\n",
       " 'https://www.fotocasa.es/vivienda/barcelona-capital/calle-joaquim-valls-148947353?RowGrid=17&tti=3&opi=300',\n",
       " 'https://www.fotocasa.es/vivienda/barcelona-capital/terraza-calle-napols-309-148429425?RowGrid=18&tti=3&opi=300',\n",
       " 'https://www.fotocasa.es/vivienda/barcelona-capital/no-amueblado-calle-la-cera-148461943?RowGrid=19&tti=3&opi=300',\n",
       " 'https://www.fotocasa.es/vivienda/barcelona-capital/aire-acondicionado-calefaccion-trastero-ascensor-amueblado-parking-calle-leiva-148946937?RowGrid=20&tti=3&opi=300',\n",
       " 'https://www.fotocasa.es/vivienda/barcelona-capital/aire-acondicionado-calefaccion-calle-calderon-de-la-barca-148886751?RowGrid=21&tti=3&opi=300',\n",
       " 'https://www.fotocasa.es/vivienda/barcelona-capital/ascensor-no-amueblado-calle-igualada-19-148783580?RowGrid=22&tti=3&opi=300',\n",
       " 'https://www.fotocasa.es/vivienda/barcelona-capital/ascensor-amueblado-calle-rossello-148783907?RowGrid=23&tti=3&opi=300',\n",
       " 'https://www.fotocasa.es/vivienda/barcelona-capital/aire-acondicionado-calefaccion-ascensor-no-amueblado-calle-valencia-148946861?RowGrid=24&tti=3&opi=300',\n",
       " 'https://www.fotocasa.es/vivienda/barcelona-capital/la-teixonera-147593111?RowGrid=25&tti=3&opi=300',\n",
       " 'https://www.fotocasa.es/vivienda/barcelona-capital/aire-acondicionado-calefaccion-terraza-ascensor-calle-montserrat-de-casanovas-148012074?RowGrid=26&tti=3&opi=300',\n",
       " 'https://www.fotocasa.es/vivienda/barcelona-capital/paseo-universal-148552040?RowGrid=27&tti=3&opi=300',\n",
       " 'https://www.fotocasa.es/vivienda/barcelona-capital/ascensor-amueblado-calle-marti-i-alsina-148578257?RowGrid=28&tti=3&opi=300',\n",
       " 'https://www.fotocasa.es/vivienda/barcelona-capital/zona-comunitaria-la-sagrera-146786109?RowGrid=29&tti=3&opi=300',\n",
       " 'https://www.fotocasa.es/vivienda/barcelona-capital/zona-comunitaria-la-sagrera-146786007?RowGrid=30&tti=3&opi=300',\n",
       " 'https://www.fotocasa.es/vivienda/barcelona-capital/zona-comunitaria-la-sagrera-146786273?RowGrid=31&tti=3&opi=300',\n",
       " 'https://www.fotocasa.es/vivienda/barcelona-capital/ascensor-amueblado-el-baix-guinardo-148463802?RowGrid=32&tti=3&opi=300',\n",
       " 'https://www.fotocasa.es/vivienda/barcelona-capital/aire-acondicionado-calefaccion-terraza-amueblado-calle-sant-miquel-145365461?RowGrid=33&tti=3&opi=300',\n",
       " 'https://www.fotocasa.es/vivienda/barcelona-capital/aire-acondicionado-amueblado-television-calle-sant-climent-147718457?RowGrid=34&tti=3&opi=300',\n",
       " 'https://www.fotocasa.es/vivienda/barcelona-capital/calefaccion-terraza-ascensor-no-amueblado-calle-poesia-13-148945851?RowGrid=35&tti=3&opi=300',\n",
       " 'https://www.fotocasa.es/vivienda/barcelona-capital/carrer-de-mora-d-ebre-71-148945213?RowGrid=36&tti=3&opi=300',\n",
       " 'https://www.fotocasa.es/vivienda/barcelona-capital/calefaccion-terraza-ascensor-calle-jovellanos-147629055?RowGrid=37&tti=3&opi=300',\n",
       " 'https://www.fotocasa.es/vivienda/barcelona-capital/aire-acondicionado-calefaccion-ascensor-amueblado-parking-carrer-d-escuder-10-148944683?RowGrid=38&tti=3&opi=300']"
      ]
     },
     "execution_count": 94,
     "metadata": {},
     "output_type": "execute_result"
    }
   ],
   "source": [
    "list_of_DetailPages"
   ]
  },
  {
   "cell_type": "code",
   "execution_count": null,
   "metadata": {},
   "outputs": [],
   "source": []
  }
 ],
 "metadata": {
  "kernelspec": {
   "display_name": "Python 3",
   "language": "python",
   "name": "python3"
  },
  "language_info": {
   "codemirror_mode": {
    "name": "ipython",
    "version": 3
   },
   "file_extension": ".py",
   "mimetype": "text/x-python",
   "name": "python",
   "nbconvert_exporter": "python",
   "pygments_lexer": "ipython3",
   "version": "3.6.6"
  }
 },
 "nbformat": 4,
 "nbformat_minor": 2
}
