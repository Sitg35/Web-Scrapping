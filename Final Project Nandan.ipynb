{
 "cells": [
  {
   "cell_type": "code",
   "execution_count": 19,
   "metadata": {},
   "outputs": [],
   "source": [
    "from bs4 import BeautifulSoup\n",
    "import requests\n",
    "import csv"
   ]
  },
  {
   "cell_type": "code",
   "execution_count": 20,
   "metadata": {},
   "outputs": [],
   "source": [
    "def get_url(url):\n",
    "    \n",
    "    r = requests.get(url)\n",
    "                            \n",
    "    soup = BeautifulSoup(r.text, 'html5lib')\n",
    "    \n",
    "    return soup"
   ]
  },
  {
   "cell_type": "code",
   "execution_count": 21,
   "metadata": {},
   "outputs": [],
   "source": [
    "def get_titles(soup):    \n",
    "    \n",
    "    list_of_titles=[]\n",
    "    \n",
    "    for name in soup.find_all(\"div\",{\"style\":\"position:relative\"}):\n",
    "        directory = name.h2.text\n",
    "        list_of_titles.append(directory) \n",
    "    \n",
    "    return list_of_titles\n"
   ]
  },
  {
   "cell_type": "code",
   "execution_count": 22,
   "metadata": {},
   "outputs": [],
   "source": [
    "def get_prices(soup):    \n",
    "    \"\"\" Returns a list of titles on the page \"\"\"\n",
    "    list_of_prices=[]\n",
    "    \n",
    "    for name in soup.find_all(\"div\",{\"style\":\"position:relative\"}):\n",
    "        directory = name.div.find(\"p\",{\"class\":\"preu\"})\n",
    "        price = directory.text\n",
    "        list_of_prices.append(price) \n",
    "    \n",
    "    return list_of_prices\n"
   ]
  },
  {
   "cell_type": "code",
   "execution_count": 23,
   "metadata": {},
   "outputs": [],
   "source": [
    "def get_KM(soup):    \n",
    "    \"\"\" Returns a list of titles on the page \"\"\"\n",
    "    list_of_KM=[]\n",
    "    \n",
    "    for name in soup.find_all(\"div\",{\"style\":\"position:relative\"}):\n",
    "        directory = name.div.find(\"span\",{\"class\":\"d1\"})\n",
    "        KM = directory.text\n",
    "        list_of_KM.append(KM) \n",
    "    \n",
    "    return list_of_KM\n"
   ]
  },
  {
   "cell_type": "code",
   "execution_count": 24,
   "metadata": {},
   "outputs": [],
   "source": [
    "def get_year(soup):    \n",
    "    \"\"\" Returns a list of titles on the page \"\"\"\n",
    "    list_of_year=[]\n",
    "    \n",
    "    for name in soup.find_all(\"div\",{\"style\":\"position:relative\"}):\n",
    "        directory = name.div.find(\"span\",{\"class\":\"d2\"})\n",
    "        year = directory.text\n",
    "        list_of_year.append(year) \n",
    "    \n",
    "    return list_of_year\n"
   ]
  },
  {
   "cell_type": "code",
   "execution_count": 25,
   "metadata": {},
   "outputs": [],
   "source": [
    "def get_location(soup):    \n",
    "    \"\"\" Returns a list of titles on the page \"\"\"\n",
    "    list_of_location=[]\n",
    "    \n",
    "    for name in soup.find_all(\"div\",{\"style\":\"position:relative\"}):\n",
    "        directory = name.div.find(\"span\",{\"class\":\"lloc\"})\n",
    "        location = directory.text\n",
    "        list_of_location.append(location) \n",
    "    \n",
    "    return list_of_location\n"
   ]
  },
  {
   "cell_type": "code",
   "execution_count": 26,
   "metadata": {},
   "outputs": [],
   "source": [
    "def get_color_inside(soup):\n",
    "    \n",
    "    color = soup.find(\"div\",{\"style\":\"width: 30%\"}).select(\"li\")[1].text\n",
    "    \n",
    "    return color"
   ]
  },
  {
   "cell_type": "code",
   "execution_count": 27,
   "metadata": {},
   "outputs": [],
   "source": [
    "def get_color(soup):\n",
    "    \n",
    "    list_of_colors = []\n",
    "    \n",
    "    for name in soup.find_all(\"div\",{\"style\":\"position:relative\"}):\n",
    "        inside_url = 'https://motos.coches.net' + name.select('a')[0]['href']\n",
    "        parsed_url = get_url(inside_url)\n",
    "        color = get_color_inside(parsed_url)\n",
    "        list_of_colors.append(color)\n",
    "        \n",
    "        \n",
    "    return list_of_colors  "
   ]
  },
  {
   "cell_type": "code",
   "execution_count": 28,
   "metadata": {},
   "outputs": [],
   "source": [
    "def get_guarantee_inside(soup):\n",
    "    \n",
    "    guarantee = soup.find(\"div\",{\"style\":\"width: 30%\"}).select(\"li\")[2].text\n",
    "    \n",
    "    return guarantee"
   ]
  },
  {
   "cell_type": "code",
   "execution_count": 29,
   "metadata": {},
   "outputs": [],
   "source": [
    "def get_guarantee(soup):\n",
    "    \n",
    "    list_of_guarantees = []\n",
    "    \n",
    "    for name in soup.find_all(\"div\",{\"style\":\"position:relative\"}):\n",
    "        inside_url = 'https://motos.coches.net' + name.select('a')[0]['href']\n",
    "        parsed_url = get_url(inside_url)\n",
    "        guarantee = get_guarantee_inside(parsed_url)\n",
    "        list_of_guarantees.append(guarantee)\n",
    "        \n",
    "        \n",
    "    return list_of_guarantees "
   ]
  },
  {
   "cell_type": "code",
   "execution_count": 30,
   "metadata": {},
   "outputs": [],
   "source": [
    "def get_description_inside(soup):\n",
    "    \n",
    "    description = soup.find(\"div\",{\"id\":\"div_comentarios\"}).select(\"p\")\n",
    "    \n",
    "    return description"
   ]
  },
  {
   "cell_type": "code",
   "execution_count": 31,
   "metadata": {},
   "outputs": [],
   "source": [
    "def get_description(soup):\n",
    "    \n",
    "    list_of_descriptions = []\n",
    "    \n",
    "    for name in soup.find_all(\"div\",{\"style\":\"position:relative\"}):\n",
    "        inside_url = 'https://motos.coches.net' + name.select('a')[0]['href']\n",
    "        parsed_url = get_url(inside_url)\n",
    "        description = get_description_inside(parsed_url)\n",
    "        list_of_descriptions.append(description)\n",
    "        \n",
    "        \n",
    "    return list_of_descriptions "
   ]
  },
  {
   "cell_type": "code",
   "execution_count": 32,
   "metadata": {},
   "outputs": [],
   "source": [
    "def list_creator(parsed_url):\n",
    "    motorbikes_list = get_titles(parsed_url)\n",
    "    prices_list = get_prices(parsed_url)\n",
    "    KM_list = get_KM(parsed_url)\n",
    "    year_list = get_year(parsed_url)\n",
    "    location_list = get_location(parsed_url)\n",
    "    color_list = get_color(parsed_url)\n",
    "    guarantee_list = get_guarantee(parsed_url)\n",
    "    description_list = get_description(parsed_url)\n",
    "      \n",
    "    return motorbikes_list, prices_list, KM_list, year_list, location_list, color_list, guarantee_list, description_list"
   ]
  },
  {
   "cell_type": "code",
   "execution_count": 33,
   "metadata": {},
   "outputs": [],
   "source": [
    "def TotalList(START_URL):\n",
    "    total_list_motorbike = []\n",
    "    total_list_prices = []\n",
    "    total_list_KM = []\n",
    "    total_list_year = []\n",
    "    total_list_location = []\n",
    "    total_list_color = []\n",
    "    total_list_guarantee = []\n",
    "    total_list_description = []\n",
    "\n",
    "    next_url = START_URL\n",
    "    while next_url != 0:\n",
    "        parsed_url = get_url(next_url)\n",
    "        motorbikes_list, prices_list, KM_list, year_list, location_list, color_list, guarantee_list, description_list = list_creator(parsed_url)\n",
    "    \n",
    "        total_list_motorbike.extend(motorbikes_list)\n",
    "        total_list_prices.extend(prices_list)\n",
    "        total_list_KM.extend(KM_list)\n",
    "        total_list_year.extend(year_list)\n",
    "        total_list_location.extend(location_list)\n",
    "        total_list_color.extend(color_list)\n",
    "        total_list_guarantee.extend(guarantee_list)\n",
    "        total_list_description.extend(description_list)\n",
    "    \n",
    "        try:\n",
    "            next_url = 'https://motos.coches.net/ocasion/default.aspx' + parsed_url.find(\"a\",{\"class\":\"pnext\"}).get(\"href\") \n",
    "        except:\n",
    "             next_url = 0\n",
    "                \n",
    "    complete_list = zip(total_list_motorbike, total_list_prices, total_list_KM, total_list_year, total_list_location, total_list_color, total_list_guarantee, total_list_description)\n",
    "                \n",
    "    return complete_list"
   ]
  },
  {
   "cell_type": "code",
   "execution_count": 34,
   "metadata": {},
   "outputs": [],
   "source": [
    "#### Let's do some cool stuff"
   ]
  },
  {
   "cell_type": "code",
   "execution_count": 35,
   "metadata": {},
   "outputs": [],
   "source": [
    "START_URL = 'https://motos.coches.net/ocasion/default.aspx?pg=1&MakeId=69&FuelTypeId=2&BodyTypeId=10&or=-1&fi=SortDate'"
   ]
  },
  {
   "cell_type": "code",
   "execution_count": 36,
   "metadata": {},
   "outputs": [
    {
     "ename": "AttributeError",
     "evalue": "'NoneType' object has no attribute 'select'",
     "output_type": "error",
     "traceback": [
      "\u001b[0;31m---------------------------------------------------------------------------\u001b[0m",
      "\u001b[0;31mAttributeError\u001b[0m                            Traceback (most recent call last)",
      "\u001b[0;32m<ipython-input-36-b7aab90d18cd>\u001b[0m in \u001b[0;36m<module>\u001b[0;34m\u001b[0m\n\u001b[1;32m      1\u001b[0m \u001b[0;32mfrom\u001b[0m \u001b[0mtime\u001b[0m \u001b[0;32mimport\u001b[0m \u001b[0mperf_counter\u001b[0m\u001b[0;34m\u001b[0m\u001b[0m\n\u001b[1;32m      2\u001b[0m \u001b[0mtoc\u001b[0m\u001b[0;34m=\u001b[0m\u001b[0mperf_counter\u001b[0m\u001b[0;34m(\u001b[0m\u001b[0;34m)\u001b[0m\u001b[0;34m\u001b[0m\u001b[0m\n\u001b[0;32m----> 3\u001b[0;31m \u001b[0mtotal_list\u001b[0m \u001b[0;34m=\u001b[0m \u001b[0mTotalList\u001b[0m\u001b[0;34m(\u001b[0m\u001b[0mSTART_URL\u001b[0m\u001b[0;34m)\u001b[0m\u001b[0;34m\u001b[0m\u001b[0m\n\u001b[0m\u001b[1;32m      4\u001b[0m \u001b[0mtic\u001b[0m\u001b[0;34m=\u001b[0m\u001b[0mperf_counter\u001b[0m\u001b[0;34m(\u001b[0m\u001b[0;34m)\u001b[0m\u001b[0;34m\u001b[0m\u001b[0m\n\u001b[1;32m      5\u001b[0m \u001b[0mprint\u001b[0m\u001b[0;34m(\u001b[0m\u001b[0mtic\u001b[0m\u001b[0;34m-\u001b[0m\u001b[0mtoc\u001b[0m\u001b[0;34m)\u001b[0m\u001b[0;34m\u001b[0m\u001b[0m\n",
      "\u001b[0;32m<ipython-input-33-c797fdc202fd>\u001b[0m in \u001b[0;36mTotalList\u001b[0;34m(START_URL)\u001b[0m\n\u001b[1;32m     12\u001b[0m     \u001b[0;32mwhile\u001b[0m \u001b[0mnext_url\u001b[0m \u001b[0;34m!=\u001b[0m \u001b[0;36m0\u001b[0m\u001b[0;34m:\u001b[0m\u001b[0;34m\u001b[0m\u001b[0m\n\u001b[1;32m     13\u001b[0m         \u001b[0mparsed_url\u001b[0m \u001b[0;34m=\u001b[0m \u001b[0mget_url\u001b[0m\u001b[0;34m(\u001b[0m\u001b[0mnext_url\u001b[0m\u001b[0;34m)\u001b[0m\u001b[0;34m\u001b[0m\u001b[0m\n\u001b[0;32m---> 14\u001b[0;31m         \u001b[0mmotorbikes_list\u001b[0m\u001b[0;34m,\u001b[0m \u001b[0mprices_list\u001b[0m\u001b[0;34m,\u001b[0m \u001b[0mKM_list\u001b[0m\u001b[0;34m,\u001b[0m \u001b[0myear_list\u001b[0m\u001b[0;34m,\u001b[0m \u001b[0mlocation_list\u001b[0m\u001b[0;34m,\u001b[0m \u001b[0mcolor_list\u001b[0m\u001b[0;34m,\u001b[0m \u001b[0mguarantee_list\u001b[0m\u001b[0;34m,\u001b[0m \u001b[0mdescription_list\u001b[0m \u001b[0;34m=\u001b[0m \u001b[0mlist_creator\u001b[0m\u001b[0;34m(\u001b[0m\u001b[0mparsed_url\u001b[0m\u001b[0;34m)\u001b[0m\u001b[0;34m\u001b[0m\u001b[0m\n\u001b[0m\u001b[1;32m     15\u001b[0m \u001b[0;34m\u001b[0m\u001b[0m\n\u001b[1;32m     16\u001b[0m         \u001b[0mtotal_list_motorbike\u001b[0m\u001b[0;34m.\u001b[0m\u001b[0mextend\u001b[0m\u001b[0;34m(\u001b[0m\u001b[0mmotorbikes_list\u001b[0m\u001b[0;34m)\u001b[0m\u001b[0;34m\u001b[0m\u001b[0m\n",
      "\u001b[0;32m<ipython-input-32-1434afef61dd>\u001b[0m in \u001b[0;36mlist_creator\u001b[0;34m(parsed_url)\u001b[0m\n\u001b[1;32m      7\u001b[0m     \u001b[0mcolor_list\u001b[0m \u001b[0;34m=\u001b[0m \u001b[0mget_color\u001b[0m\u001b[0;34m(\u001b[0m\u001b[0mparsed_url\u001b[0m\u001b[0;34m)\u001b[0m\u001b[0;34m\u001b[0m\u001b[0m\n\u001b[1;32m      8\u001b[0m     \u001b[0mguarantee_list\u001b[0m \u001b[0;34m=\u001b[0m \u001b[0mget_guarantee\u001b[0m\u001b[0;34m(\u001b[0m\u001b[0mparsed_url\u001b[0m\u001b[0;34m)\u001b[0m\u001b[0;34m\u001b[0m\u001b[0m\n\u001b[0;32m----> 9\u001b[0;31m     \u001b[0mdescription_list\u001b[0m \u001b[0;34m=\u001b[0m \u001b[0mget_description\u001b[0m\u001b[0;34m(\u001b[0m\u001b[0mparsed_url\u001b[0m\u001b[0;34m)\u001b[0m\u001b[0;34m\u001b[0m\u001b[0m\n\u001b[0m\u001b[1;32m     10\u001b[0m \u001b[0;34m\u001b[0m\u001b[0m\n\u001b[1;32m     11\u001b[0m     \u001b[0;32mreturn\u001b[0m \u001b[0mmotorbikes_list\u001b[0m\u001b[0;34m,\u001b[0m \u001b[0mprices_list\u001b[0m\u001b[0;34m,\u001b[0m \u001b[0mKM_list\u001b[0m\u001b[0;34m,\u001b[0m \u001b[0myear_list\u001b[0m\u001b[0;34m,\u001b[0m \u001b[0mlocation_list\u001b[0m\u001b[0;34m,\u001b[0m \u001b[0mcolor_list\u001b[0m\u001b[0;34m,\u001b[0m \u001b[0mguarantee_list\u001b[0m\u001b[0;34m,\u001b[0m \u001b[0mdescription_list\u001b[0m\u001b[0;34m\u001b[0m\u001b[0m\n",
      "\u001b[0;32m<ipython-input-31-2c6143971dee>\u001b[0m in \u001b[0;36mget_description\u001b[0;34m(soup)\u001b[0m\n\u001b[1;32m      6\u001b[0m         \u001b[0minside_url\u001b[0m \u001b[0;34m=\u001b[0m \u001b[0;34m'https://motos.coches.net'\u001b[0m \u001b[0;34m+\u001b[0m \u001b[0mname\u001b[0m\u001b[0;34m.\u001b[0m\u001b[0mselect\u001b[0m\u001b[0;34m(\u001b[0m\u001b[0;34m'a'\u001b[0m\u001b[0;34m)\u001b[0m\u001b[0;34m[\u001b[0m\u001b[0;36m0\u001b[0m\u001b[0;34m]\u001b[0m\u001b[0;34m[\u001b[0m\u001b[0;34m'href'\u001b[0m\u001b[0;34m]\u001b[0m\u001b[0;34m\u001b[0m\u001b[0m\n\u001b[1;32m      7\u001b[0m         \u001b[0mparsed_url\u001b[0m \u001b[0;34m=\u001b[0m \u001b[0mget_url\u001b[0m\u001b[0;34m(\u001b[0m\u001b[0minside_url\u001b[0m\u001b[0;34m)\u001b[0m\u001b[0;34m\u001b[0m\u001b[0m\n\u001b[0;32m----> 8\u001b[0;31m         \u001b[0mdescription\u001b[0m \u001b[0;34m=\u001b[0m \u001b[0mget_description_inside\u001b[0m\u001b[0;34m(\u001b[0m\u001b[0mparsed_url\u001b[0m\u001b[0;34m)\u001b[0m\u001b[0;34m\u001b[0m\u001b[0m\n\u001b[0m\u001b[1;32m      9\u001b[0m         \u001b[0mlist_of_descriptions\u001b[0m\u001b[0;34m.\u001b[0m\u001b[0mappend\u001b[0m\u001b[0;34m(\u001b[0m\u001b[0mdescription\u001b[0m\u001b[0;34m)\u001b[0m\u001b[0;34m\u001b[0m\u001b[0m\n\u001b[1;32m     10\u001b[0m \u001b[0;34m\u001b[0m\u001b[0m\n",
      "\u001b[0;32m<ipython-input-30-9506563bd3c7>\u001b[0m in \u001b[0;36mget_description_inside\u001b[0;34m(soup)\u001b[0m\n\u001b[1;32m      1\u001b[0m \u001b[0;32mdef\u001b[0m \u001b[0mget_description_inside\u001b[0m\u001b[0;34m(\u001b[0m\u001b[0msoup\u001b[0m\u001b[0;34m)\u001b[0m\u001b[0;34m:\u001b[0m\u001b[0;34m\u001b[0m\u001b[0m\n\u001b[1;32m      2\u001b[0m \u001b[0;34m\u001b[0m\u001b[0m\n\u001b[0;32m----> 3\u001b[0;31m     \u001b[0mdescription\u001b[0m \u001b[0;34m=\u001b[0m \u001b[0msoup\u001b[0m\u001b[0;34m.\u001b[0m\u001b[0mfind\u001b[0m\u001b[0;34m(\u001b[0m\u001b[0;34m\"div\"\u001b[0m\u001b[0;34m,\u001b[0m\u001b[0;34m{\u001b[0m\u001b[0;34m\"id\"\u001b[0m\u001b[0;34m:\u001b[0m\u001b[0;34m\"div_comentarios\"\u001b[0m\u001b[0;34m}\u001b[0m\u001b[0;34m)\u001b[0m\u001b[0;34m.\u001b[0m\u001b[0mselect\u001b[0m\u001b[0;34m(\u001b[0m\u001b[0;34m\"p\"\u001b[0m\u001b[0;34m)\u001b[0m\u001b[0;34m\u001b[0m\u001b[0m\n\u001b[0m\u001b[1;32m      4\u001b[0m \u001b[0;34m\u001b[0m\u001b[0m\n\u001b[1;32m      5\u001b[0m     \u001b[0;32mreturn\u001b[0m \u001b[0mdescription\u001b[0m\u001b[0;34m\u001b[0m\u001b[0m\n",
      "\u001b[0;31mAttributeError\u001b[0m: 'NoneType' object has no attribute 'select'"
     ]
    }
   ],
   "source": [
    "from time import perf_counter\n",
    "toc=perf_counter()\n",
    "total_list = TotalList(START_URL)\n",
    "tic=perf_counter()\n",
    "print(tic-toc)"
   ]
  },
  {
   "cell_type": "code",
   "execution_count": 15,
   "metadata": {},
   "outputs": [
    {
     "data": {
      "text/plain": [
       "53"
      ]
     },
     "execution_count": 15,
     "metadata": {},
     "output_type": "execute_result"
    }
   ],
   "source": [
    "filename = \"motorbikes.csv\"\n",
    "f = open(filename, \"w\")\n",
    "\n",
    "headers = \"Motorbike, Price, Kilometers, Year, Location, Color, Guarantee, Description \\n\"\n",
    "\n",
    "f.write(headers)"
   ]
  },
  {
   "cell_type": "code",
   "execution_count": 16,
   "metadata": {},
   "outputs": [],
   "source": [
    "with f:\n",
    "    writer = csv.writer(f, lineterminator='\\n')\n",
    "    writer.writerows(total_list)"
   ]
  },
  {
   "cell_type": "code",
   "execution_count": 17,
   "metadata": {},
   "outputs": [],
   "source": [
    "f.close()"
   ]
  },
  {
   "cell_type": "code",
   "execution_count": null,
   "metadata": {},
   "outputs": [],
   "source": []
  }
 ],
 "metadata": {
  "kernelspec": {
   "display_name": "Python 3",
   "language": "python",
   "name": "python3"
  },
  "language_info": {
   "codemirror_mode": {
    "name": "ipython",
    "version": 3
   },
   "file_extension": ".py",
   "mimetype": "text/x-python",
   "name": "python",
   "nbconvert_exporter": "python",
   "pygments_lexer": "ipython3",
   "version": "3.6.6"
  }
 },
 "nbformat": 4,
 "nbformat_minor": 2
}
